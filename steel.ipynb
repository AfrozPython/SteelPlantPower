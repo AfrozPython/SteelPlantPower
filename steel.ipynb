{
 "cells": [
  {
   "cell_type": "markdown",
   "id": "69966295",
   "metadata": {},
   "source": [
    "About Dataset\n",
    "\n",
    "Content\n",
    "\n",
    "This company produces several types of coils, steel plates, and iron plates. The information on electricity consumption is held in a cloud-based system. The information on energy consumption of the industry is stored on the website of the Korea Electric Power Corporation (pccs.kepco.go.kr), and the perspectives on daily, monthly, and annual data are calculated and shown.\n",
    "Attribute Information:\n",
    "\n",
    "- Date Continuous-time data taken on the first of the month\n",
    "- Usage_kWh Industry Energy Consumption Continuous kWh\n",
    "- Lagging Current reactive power Continuous kVarh\n",
    "- Leading Current reactive power Continuous kVarh\n",
    "- CO2 Continuous ppm\n",
    "- NSM Number of Seconds from midnight Continuous S\n",
    "- Week status Categorical (Weekend (0) or a Weekday(1))\n",
    "- Day of week Categorical Sunday, Monday : Saturday\n",
    "- Load Type Categorical Light Load, Medium Load, Maximum Load\n",
    "\n",
    "\n",
    "*Inspiration*\n",
    "\n",
    "***Which times of the year is the most energy consumed?***\n",
    "\n",
    "***What patterns can we identify in energy usage?***\n"
   ]
  },
  {
   "cell_type": "code",
   "execution_count": 1,
   "id": "1376b467",
   "metadata": {
    "_cell_guid": "b1076dfc-b9ad-4769-8c92-a6c4dae69d19",
    "_uuid": "8f2839f25d086af736a60e9eeb907d3b93b6e0e5",
    "execution": {
     "iopub.execute_input": "2021-12-21T22:18:01.630640Z",
     "iopub.status.busy": "2021-12-21T22:18:01.629501Z",
     "iopub.status.idle": "2021-12-21T22:18:01.646164Z",
     "shell.execute_reply": "2021-12-21T22:18:01.645374Z",
     "shell.execute_reply.started": "2021-12-21T22:17:00.609716Z"
    },
    "papermill": {
     "duration": 0.023967,
     "end_time": "2021-12-21T22:18:01.646350",
     "exception": false,
     "start_time": "2021-12-21T22:18:01.622383",
     "status": "completed"
    },
    "tags": []
   },
   "outputs": [],
   "source": [
    "import pandas as pd \n",
    "import numpy as np\n",
    "import seaborn as sns\n",
    "import matplotlib.pyplot as plt \n",
    "%matplotlib inline\n",
    "\n",
    "import warnings\n",
    "warnings.filterwarnings(\"ignore\")"
   ]
  },
  {
   "cell_type": "code",
   "execution_count": 2,
   "id": "91b4a2b6",
   "metadata": {
    "execution": {
     "iopub.execute_input": "2021-12-21T22:18:01.658737Z",
     "iopub.status.busy": "2021-12-21T22:18:01.658026Z",
     "iopub.status.idle": "2021-12-21T22:18:01.796400Z",
     "shell.execute_reply": "2021-12-21T22:18:01.795162Z",
     "shell.execute_reply.started": "2021-12-21T22:17:33.386729Z"
    },
    "papermill": {
     "duration": 0.145844,
     "end_time": "2021-12-21T22:18:01.796659",
     "exception": false,
     "start_time": "2021-12-21T22:18:01.650815",
     "status": "completed"
    },
    "tags": []
   },
   "outputs": [
    {
     "data": {
      "text/html": [
       "<div>\n",
       "<style scoped>\n",
       "    .dataframe tbody tr th:only-of-type {\n",
       "        vertical-align: middle;\n",
       "    }\n",
       "\n",
       "    .dataframe tbody tr th {\n",
       "        vertical-align: top;\n",
       "    }\n",
       "\n",
       "    .dataframe thead th {\n",
       "        text-align: right;\n",
       "    }\n",
       "</style>\n",
       "<table border=\"1\" class=\"dataframe\">\n",
       "  <thead>\n",
       "    <tr style=\"text-align: right;\">\n",
       "      <th></th>\n",
       "      <th>Usage_kWh</th>\n",
       "      <th>Lagging_Current_Reactive.Power_kVarh</th>\n",
       "      <th>Leading_Current_Reactive_Power_kVarh</th>\n",
       "      <th>CO2(tCO2)</th>\n",
       "      <th>Lagging_Current_Power_Factor</th>\n",
       "      <th>Leading_Current_Power_Factor</th>\n",
       "      <th>NSM</th>\n",
       "      <th>WeekStatus</th>\n",
       "      <th>Day_of_week</th>\n",
       "      <th>Load_Type</th>\n",
       "    </tr>\n",
       "  </thead>\n",
       "  <tbody>\n",
       "    <tr>\n",
       "      <th>0</th>\n",
       "      <td>3.17</td>\n",
       "      <td>2.95</td>\n",
       "      <td>0.0</td>\n",
       "      <td>0.0</td>\n",
       "      <td>73.21</td>\n",
       "      <td>100.0</td>\n",
       "      <td>900</td>\n",
       "      <td>Weekday</td>\n",
       "      <td>Monday</td>\n",
       "      <td>Light_Load</td>\n",
       "    </tr>\n",
       "    <tr>\n",
       "      <th>1</th>\n",
       "      <td>4.00</td>\n",
       "      <td>4.46</td>\n",
       "      <td>0.0</td>\n",
       "      <td>0.0</td>\n",
       "      <td>66.77</td>\n",
       "      <td>100.0</td>\n",
       "      <td>1800</td>\n",
       "      <td>Weekday</td>\n",
       "      <td>Monday</td>\n",
       "      <td>Light_Load</td>\n",
       "    </tr>\n",
       "    <tr>\n",
       "      <th>2</th>\n",
       "      <td>3.24</td>\n",
       "      <td>3.28</td>\n",
       "      <td>0.0</td>\n",
       "      <td>0.0</td>\n",
       "      <td>70.28</td>\n",
       "      <td>100.0</td>\n",
       "      <td>2700</td>\n",
       "      <td>Weekday</td>\n",
       "      <td>Monday</td>\n",
       "      <td>Light_Load</td>\n",
       "    </tr>\n",
       "    <tr>\n",
       "      <th>3</th>\n",
       "      <td>3.31</td>\n",
       "      <td>3.56</td>\n",
       "      <td>0.0</td>\n",
       "      <td>0.0</td>\n",
       "      <td>68.09</td>\n",
       "      <td>100.0</td>\n",
       "      <td>3600</td>\n",
       "      <td>Weekday</td>\n",
       "      <td>Monday</td>\n",
       "      <td>Light_Load</td>\n",
       "    </tr>\n",
       "    <tr>\n",
       "      <th>4</th>\n",
       "      <td>3.82</td>\n",
       "      <td>4.50</td>\n",
       "      <td>0.0</td>\n",
       "      <td>0.0</td>\n",
       "      <td>64.72</td>\n",
       "      <td>100.0</td>\n",
       "      <td>4500</td>\n",
       "      <td>Weekday</td>\n",
       "      <td>Monday</td>\n",
       "      <td>Light_Load</td>\n",
       "    </tr>\n",
       "  </tbody>\n",
       "</table>\n",
       "</div>"
      ],
      "text/plain": [
       "   Usage_kWh  Lagging_Current_Reactive.Power_kVarh  \\\n",
       "0       3.17                                  2.95   \n",
       "1       4.00                                  4.46   \n",
       "2       3.24                                  3.28   \n",
       "3       3.31                                  3.56   \n",
       "4       3.82                                  4.50   \n",
       "\n",
       "   Leading_Current_Reactive_Power_kVarh  CO2(tCO2)  \\\n",
       "0                                   0.0        0.0   \n",
       "1                                   0.0        0.0   \n",
       "2                                   0.0        0.0   \n",
       "3                                   0.0        0.0   \n",
       "4                                   0.0        0.0   \n",
       "\n",
       "   Lagging_Current_Power_Factor  Leading_Current_Power_Factor   NSM  \\\n",
       "0                         73.21                         100.0   900   \n",
       "1                         66.77                         100.0  1800   \n",
       "2                         70.28                         100.0  2700   \n",
       "3                         68.09                         100.0  3600   \n",
       "4                         64.72                         100.0  4500   \n",
       "\n",
       "  WeekStatus Day_of_week   Load_Type  \n",
       "0    Weekday      Monday  Light_Load  \n",
       "1    Weekday      Monday  Light_Load  \n",
       "2    Weekday      Monday  Light_Load  \n",
       "3    Weekday      Monday  Light_Load  \n",
       "4    Weekday      Monday  Light_Load  "
      ]
     },
     "execution_count": 2,
     "metadata": {},
     "output_type": "execute_result"
    }
   ],
   "source": [
    "df = pd.read_csv(\"Steel_industry_data.csv\")\n",
    "df = df.drop(['date'],axis=1)\n",
    "df.head()"
   ]
  },
  {
   "cell_type": "code",
   "execution_count": 3,
   "id": "3ae5cd4f",
   "metadata": {},
   "outputs": [
    {
     "data": {
      "text/plain": [
       "Light_Load      18072\n",
       "Medium_Load      9696\n",
       "Maximum_Load     7272\n",
       "Name: Load_Type, dtype: int64"
      ]
     },
     "execution_count": 3,
     "metadata": {},
     "output_type": "execute_result"
    }
   ],
   "source": [
    "df['Load_Type'].value_counts()"
   ]
  },
  {
   "cell_type": "code",
   "execution_count": 4,
   "id": "841a2c05",
   "metadata": {},
   "outputs": [
    {
     "name": "stdout",
     "output_type": "stream",
     "text": [
      "\u001b[034m\u001b[1m \n",
      " WeekStatus\n",
      "\u001b[031m\u001b[1m ========================= \n",
      "\n",
      "Weekday    25056\n",
      "Weekend     9984\n",
      "Name: WeekStatus, dtype: int64\n",
      "\u001b[034m\u001b[1m \n",
      " Day_of_week\n",
      "\u001b[031m\u001b[1m ========================= \n",
      "\n",
      "Monday       5088\n",
      "Tuesday      4992\n",
      "Wednesday    4992\n",
      "Thursday     4992\n",
      "Friday       4992\n",
      "Saturday     4992\n",
      "Sunday       4992\n",
      "Name: Day_of_week, dtype: int64\n",
      "\u001b[034m\u001b[1m \n",
      " Load_Type\n",
      "\u001b[031m\u001b[1m ========================= \n",
      "\n",
      "Light_Load      18072\n",
      "Medium_Load      9696\n",
      "Maximum_Load     7272\n",
      "Name: Load_Type, dtype: int64\n"
     ]
    }
   ],
   "source": [
    "for col in df[['WeekStatus','Day_of_week','Load_Type']]:\n",
    "    \n",
    "    print(f\"\\033[034m\\033[1m \\n\",col)\n",
    "    print(f\"\\033[031m\\033[1m\",\"=====\"*5,\"\\n\")\n",
    "    print(df[col].value_counts())"
   ]
  },
  {
   "cell_type": "code",
   "execution_count": 5,
   "id": "63a59b0a",
   "metadata": {},
   "outputs": [
    {
     "data": {
      "text/html": [
       "<div>\n",
       "<style scoped>\n",
       "    .dataframe tbody tr th:only-of-type {\n",
       "        vertical-align: middle;\n",
       "    }\n",
       "\n",
       "    .dataframe tbody tr th {\n",
       "        vertical-align: top;\n",
       "    }\n",
       "\n",
       "    .dataframe thead th {\n",
       "        text-align: right;\n",
       "    }\n",
       "</style>\n",
       "<table border=\"1\" class=\"dataframe\">\n",
       "  <thead>\n",
       "    <tr style=\"text-align: right;\">\n",
       "      <th></th>\n",
       "      <th>Usage_kWh</th>\n",
       "      <th>Lagging_Reactive_Power_kVarh</th>\n",
       "      <th>Leading_Reactive_Power_kVarh</th>\n",
       "      <th>CO2</th>\n",
       "      <th>Lagging_Power_Factor</th>\n",
       "      <th>Leading_Power_Factor</th>\n",
       "      <th>NSM</th>\n",
       "      <th>WeekStatus</th>\n",
       "      <th>Day_of_week</th>\n",
       "      <th>Load_Type</th>\n",
       "    </tr>\n",
       "  </thead>\n",
       "  <tbody>\n",
       "    <tr>\n",
       "      <th>0</th>\n",
       "      <td>3.17</td>\n",
       "      <td>2.95</td>\n",
       "      <td>0.0</td>\n",
       "      <td>0.0</td>\n",
       "      <td>73.21</td>\n",
       "      <td>100.0</td>\n",
       "      <td>900</td>\n",
       "      <td>Weekday</td>\n",
       "      <td>Monday</td>\n",
       "      <td>Light_Load</td>\n",
       "    </tr>\n",
       "    <tr>\n",
       "      <th>1</th>\n",
       "      <td>4.00</td>\n",
       "      <td>4.46</td>\n",
       "      <td>0.0</td>\n",
       "      <td>0.0</td>\n",
       "      <td>66.77</td>\n",
       "      <td>100.0</td>\n",
       "      <td>1800</td>\n",
       "      <td>Weekday</td>\n",
       "      <td>Monday</td>\n",
       "      <td>Light_Load</td>\n",
       "    </tr>\n",
       "    <tr>\n",
       "      <th>2</th>\n",
       "      <td>3.24</td>\n",
       "      <td>3.28</td>\n",
       "      <td>0.0</td>\n",
       "      <td>0.0</td>\n",
       "      <td>70.28</td>\n",
       "      <td>100.0</td>\n",
       "      <td>2700</td>\n",
       "      <td>Weekday</td>\n",
       "      <td>Monday</td>\n",
       "      <td>Light_Load</td>\n",
       "    </tr>\n",
       "    <tr>\n",
       "      <th>3</th>\n",
       "      <td>3.31</td>\n",
       "      <td>3.56</td>\n",
       "      <td>0.0</td>\n",
       "      <td>0.0</td>\n",
       "      <td>68.09</td>\n",
       "      <td>100.0</td>\n",
       "      <td>3600</td>\n",
       "      <td>Weekday</td>\n",
       "      <td>Monday</td>\n",
       "      <td>Light_Load</td>\n",
       "    </tr>\n",
       "    <tr>\n",
       "      <th>4</th>\n",
       "      <td>3.82</td>\n",
       "      <td>4.50</td>\n",
       "      <td>0.0</td>\n",
       "      <td>0.0</td>\n",
       "      <td>64.72</td>\n",
       "      <td>100.0</td>\n",
       "      <td>4500</td>\n",
       "      <td>Weekday</td>\n",
       "      <td>Monday</td>\n",
       "      <td>Light_Load</td>\n",
       "    </tr>\n",
       "  </tbody>\n",
       "</table>\n",
       "</div>"
      ],
      "text/plain": [
       "   Usage_kWh  Lagging_Reactive_Power_kVarh  Leading_Reactive_Power_kVarh  CO2  \\\n",
       "0       3.17                          2.95                           0.0  0.0   \n",
       "1       4.00                          4.46                           0.0  0.0   \n",
       "2       3.24                          3.28                           0.0  0.0   \n",
       "3       3.31                          3.56                           0.0  0.0   \n",
       "4       3.82                          4.50                           0.0  0.0   \n",
       "\n",
       "   Lagging_Power_Factor  Leading_Power_Factor   NSM WeekStatus Day_of_week  \\\n",
       "0                 73.21                 100.0   900    Weekday      Monday   \n",
       "1                 66.77                 100.0  1800    Weekday      Monday   \n",
       "2                 70.28                 100.0  2700    Weekday      Monday   \n",
       "3                 68.09                 100.0  3600    Weekday      Monday   \n",
       "4                 64.72                 100.0  4500    Weekday      Monday   \n",
       "\n",
       "    Load_Type  \n",
       "0  Light_Load  \n",
       "1  Light_Load  \n",
       "2  Light_Load  \n",
       "3  Light_Load  \n",
       "4  Light_Load  "
      ]
     },
     "execution_count": 5,
     "metadata": {},
     "output_type": "execute_result"
    }
   ],
   "source": [
    "#Rename some columns\n",
    "df = df.rename(columns={'Lagging_Current_Reactive.Power_kVarh': 'Lagging_Reactive_Power_kVarh',\n",
    "                        'Leading_Current_Reactive_Power_kVarh': 'Leading_Reactive_Power_kVarh',\n",
    "                        'Lagging_Current_Power_Factor': 'Lagging_Power_Factor',\n",
    "                        'Leading_Current_Power_Factor': 'Leading_Power_Factor',\n",
    "                        'CO2(tCO2)':'CO2'})\n",
    "df.head()"
   ]
  },
  {
   "cell_type": "code",
   "execution_count": 6,
   "id": "040ea672",
   "metadata": {},
   "outputs": [
    {
     "data": {
      "text/html": [
       "<div>\n",
       "<style scoped>\n",
       "    .dataframe tbody tr th:only-of-type {\n",
       "        vertical-align: middle;\n",
       "    }\n",
       "\n",
       "    .dataframe tbody tr th {\n",
       "        vertical-align: top;\n",
       "    }\n",
       "\n",
       "    .dataframe thead th {\n",
       "        text-align: right;\n",
       "    }\n",
       "</style>\n",
       "<table border=\"1\" class=\"dataframe\">\n",
       "  <thead>\n",
       "    <tr style=\"text-align: right;\">\n",
       "      <th></th>\n",
       "      <th>Usage_kWh</th>\n",
       "      <th>Lagging_Reactive_Power_kVarh</th>\n",
       "      <th>Leading_Reactive_Power_kVarh</th>\n",
       "      <th>CO2</th>\n",
       "      <th>Lagging_Power_Factor</th>\n",
       "      <th>Leading_Power_Factor</th>\n",
       "      <th>NSM</th>\n",
       "      <th>WeekStatus</th>\n",
       "      <th>Day_of_week</th>\n",
       "      <th>Load_Type</th>\n",
       "    </tr>\n",
       "  </thead>\n",
       "  <tbody>\n",
       "    <tr>\n",
       "      <th>0</th>\n",
       "      <td>3.17</td>\n",
       "      <td>2.95</td>\n",
       "      <td>0.0</td>\n",
       "      <td>0.0</td>\n",
       "      <td>73.21</td>\n",
       "      <td>100.0</td>\n",
       "      <td>900</td>\n",
       "      <td>1</td>\n",
       "      <td>1</td>\n",
       "      <td>Light_Load</td>\n",
       "    </tr>\n",
       "    <tr>\n",
       "      <th>1</th>\n",
       "      <td>4.00</td>\n",
       "      <td>4.46</td>\n",
       "      <td>0.0</td>\n",
       "      <td>0.0</td>\n",
       "      <td>66.77</td>\n",
       "      <td>100.0</td>\n",
       "      <td>1800</td>\n",
       "      <td>1</td>\n",
       "      <td>1</td>\n",
       "      <td>Light_Load</td>\n",
       "    </tr>\n",
       "    <tr>\n",
       "      <th>2</th>\n",
       "      <td>3.24</td>\n",
       "      <td>3.28</td>\n",
       "      <td>0.0</td>\n",
       "      <td>0.0</td>\n",
       "      <td>70.28</td>\n",
       "      <td>100.0</td>\n",
       "      <td>2700</td>\n",
       "      <td>1</td>\n",
       "      <td>1</td>\n",
       "      <td>Light_Load</td>\n",
       "    </tr>\n",
       "    <tr>\n",
       "      <th>3</th>\n",
       "      <td>3.31</td>\n",
       "      <td>3.56</td>\n",
       "      <td>0.0</td>\n",
       "      <td>0.0</td>\n",
       "      <td>68.09</td>\n",
       "      <td>100.0</td>\n",
       "      <td>3600</td>\n",
       "      <td>1</td>\n",
       "      <td>1</td>\n",
       "      <td>Light_Load</td>\n",
       "    </tr>\n",
       "  </tbody>\n",
       "</table>\n",
       "</div>"
      ],
      "text/plain": [
       "   Usage_kWh  Lagging_Reactive_Power_kVarh  Leading_Reactive_Power_kVarh  CO2  \\\n",
       "0       3.17                          2.95                           0.0  0.0   \n",
       "1       4.00                          4.46                           0.0  0.0   \n",
       "2       3.24                          3.28                           0.0  0.0   \n",
       "3       3.31                          3.56                           0.0  0.0   \n",
       "\n",
       "   Lagging_Power_Factor  Leading_Power_Factor   NSM  WeekStatus  Day_of_week  \\\n",
       "0                 73.21                 100.0   900           1            1   \n",
       "1                 66.77                 100.0  1800           1            1   \n",
       "2                 70.28                 100.0  2700           1            1   \n",
       "3                 68.09                 100.0  3600           1            1   \n",
       "\n",
       "    Load_Type  \n",
       "0  Light_Load  \n",
       "1  Light_Load  \n",
       "2  Light_Load  \n",
       "3  Light_Load  "
      ]
     },
     "execution_count": 6,
     "metadata": {},
     "output_type": "execute_result"
    }
   ],
   "source": [
    "# Encode Categorical Columns\n",
    "\n",
    "import category_encoders as ce\n",
    "encoder = ce.OrdinalEncoder(cols=['WeekStatus','Day_of_week'])\n",
    "df = encoder.fit_transform(df)\n",
    "df.head(4)"
   ]
  },
  {
   "cell_type": "code",
   "execution_count": 7,
   "id": "dda90249",
   "metadata": {},
   "outputs": [],
   "source": [
    "df[\"Load_Type\"].replace({\"Light_Load\":0 ,\"Medium_Load\":1 ,\"Maximum_Load\":2} , inplace=True)"
   ]
  },
  {
   "cell_type": "code",
   "execution_count": 8,
   "id": "81885aa6",
   "metadata": {},
   "outputs": [
    {
     "data": {
      "text/plain": [
       "0    18072\n",
       "1     9696\n",
       "2     7272\n",
       "Name: Load_Type, dtype: int64"
      ]
     },
     "execution_count": 8,
     "metadata": {},
     "output_type": "execute_result"
    }
   ],
   "source": [
    "df['Load_Type'].value_counts()"
   ]
  },
  {
   "cell_type": "code",
   "execution_count": 9,
   "id": "93f95846",
   "metadata": {},
   "outputs": [
    {
     "data": {
      "text/html": [
       "<div>\n",
       "<style scoped>\n",
       "    .dataframe tbody tr th:only-of-type {\n",
       "        vertical-align: middle;\n",
       "    }\n",
       "\n",
       "    .dataframe tbody tr th {\n",
       "        vertical-align: top;\n",
       "    }\n",
       "\n",
       "    .dataframe thead th {\n",
       "        text-align: right;\n",
       "    }\n",
       "</style>\n",
       "<table border=\"1\" class=\"dataframe\">\n",
       "  <thead>\n",
       "    <tr style=\"text-align: right;\">\n",
       "      <th></th>\n",
       "      <th>Usage_kWh</th>\n",
       "      <th>Lagging_Reactive_Power_kVarh</th>\n",
       "      <th>Leading_Reactive_Power_kVarh</th>\n",
       "      <th>CO2</th>\n",
       "      <th>Lagging_Power_Factor</th>\n",
       "      <th>Leading_Power_Factor</th>\n",
       "      <th>NSM</th>\n",
       "      <th>WeekStatus</th>\n",
       "      <th>Day_of_week</th>\n",
       "      <th>Load_Type</th>\n",
       "    </tr>\n",
       "  </thead>\n",
       "  <tbody>\n",
       "    <tr>\n",
       "      <th>0</th>\n",
       "      <td>3.17</td>\n",
       "      <td>2.95</td>\n",
       "      <td>0.0</td>\n",
       "      <td>0.0</td>\n",
       "      <td>73.21</td>\n",
       "      <td>100.0</td>\n",
       "      <td>900</td>\n",
       "      <td>1</td>\n",
       "      <td>1</td>\n",
       "      <td>0</td>\n",
       "    </tr>\n",
       "    <tr>\n",
       "      <th>1</th>\n",
       "      <td>4.00</td>\n",
       "      <td>4.46</td>\n",
       "      <td>0.0</td>\n",
       "      <td>0.0</td>\n",
       "      <td>66.77</td>\n",
       "      <td>100.0</td>\n",
       "      <td>1800</td>\n",
       "      <td>1</td>\n",
       "      <td>1</td>\n",
       "      <td>0</td>\n",
       "    </tr>\n",
       "    <tr>\n",
       "      <th>2</th>\n",
       "      <td>3.24</td>\n",
       "      <td>3.28</td>\n",
       "      <td>0.0</td>\n",
       "      <td>0.0</td>\n",
       "      <td>70.28</td>\n",
       "      <td>100.0</td>\n",
       "      <td>2700</td>\n",
       "      <td>1</td>\n",
       "      <td>1</td>\n",
       "      <td>0</td>\n",
       "    </tr>\n",
       "    <tr>\n",
       "      <th>3</th>\n",
       "      <td>3.31</td>\n",
       "      <td>3.56</td>\n",
       "      <td>0.0</td>\n",
       "      <td>0.0</td>\n",
       "      <td>68.09</td>\n",
       "      <td>100.0</td>\n",
       "      <td>3600</td>\n",
       "      <td>1</td>\n",
       "      <td>1</td>\n",
       "      <td>0</td>\n",
       "    </tr>\n",
       "    <tr>\n",
       "      <th>4</th>\n",
       "      <td>3.82</td>\n",
       "      <td>4.50</td>\n",
       "      <td>0.0</td>\n",
       "      <td>0.0</td>\n",
       "      <td>64.72</td>\n",
       "      <td>100.0</td>\n",
       "      <td>4500</td>\n",
       "      <td>1</td>\n",
       "      <td>1</td>\n",
       "      <td>0</td>\n",
       "    </tr>\n",
       "  </tbody>\n",
       "</table>\n",
       "</div>"
      ],
      "text/plain": [
       "   Usage_kWh  Lagging_Reactive_Power_kVarh  Leading_Reactive_Power_kVarh  CO2  \\\n",
       "0       3.17                          2.95                           0.0  0.0   \n",
       "1       4.00                          4.46                           0.0  0.0   \n",
       "2       3.24                          3.28                           0.0  0.0   \n",
       "3       3.31                          3.56                           0.0  0.0   \n",
       "4       3.82                          4.50                           0.0  0.0   \n",
       "\n",
       "   Lagging_Power_Factor  Leading_Power_Factor   NSM  WeekStatus  Day_of_week  \\\n",
       "0                 73.21                 100.0   900           1            1   \n",
       "1                 66.77                 100.0  1800           1            1   \n",
       "2                 70.28                 100.0  2700           1            1   \n",
       "3                 68.09                 100.0  3600           1            1   \n",
       "4                 64.72                 100.0  4500           1            1   \n",
       "\n",
       "   Load_Type  \n",
       "0          0  \n",
       "1          0  \n",
       "2          0  \n",
       "3          0  \n",
       "4          0  "
      ]
     },
     "execution_count": 9,
     "metadata": {},
     "output_type": "execute_result"
    }
   ],
   "source": [
    "import pickle\n",
    "pickle.dump(df,open('df.pkl','wb'))\n",
    "df.head()"
   ]
  },
  {
   "cell_type": "code",
   "execution_count": 10,
   "id": "d6178c32",
   "metadata": {},
   "outputs": [
    {
     "data": {
      "text/html": [
       "<div>\n",
       "<style scoped>\n",
       "    .dataframe tbody tr th:only-of-type {\n",
       "        vertical-align: middle;\n",
       "    }\n",
       "\n",
       "    .dataframe tbody tr th {\n",
       "        vertical-align: top;\n",
       "    }\n",
       "\n",
       "    .dataframe thead th {\n",
       "        text-align: right;\n",
       "    }\n",
       "</style>\n",
       "<table border=\"1\" class=\"dataframe\">\n",
       "  <thead>\n",
       "    <tr style=\"text-align: right;\">\n",
       "      <th></th>\n",
       "      <th>Usage_kWh</th>\n",
       "      <th>Lagging_Reactive_Power_kVarh</th>\n",
       "      <th>Leading_Reactive_Power_kVarh</th>\n",
       "      <th>CO2</th>\n",
       "      <th>Lagging_Power_Factor</th>\n",
       "      <th>Leading_Power_Factor</th>\n",
       "      <th>NSM</th>\n",
       "      <th>WeekStatus</th>\n",
       "      <th>Day_of_week</th>\n",
       "      <th>Load_Type</th>\n",
       "    </tr>\n",
       "  </thead>\n",
       "  <tbody>\n",
       "    <tr>\n",
       "      <th>136</th>\n",
       "      <td>54.79</td>\n",
       "      <td>7.52</td>\n",
       "      <td>0.14</td>\n",
       "      <td>0.0</td>\n",
       "      <td>99.07</td>\n",
       "      <td>100.0</td>\n",
       "      <td>36900</td>\n",
       "      <td>1</td>\n",
       "      <td>2</td>\n",
       "      <td>2</td>\n",
       "    </tr>\n",
       "    <tr>\n",
       "      <th>137</th>\n",
       "      <td>53.21</td>\n",
       "      <td>8.35</td>\n",
       "      <td>0.11</td>\n",
       "      <td>0.0</td>\n",
       "      <td>98.79</td>\n",
       "      <td>100.0</td>\n",
       "      <td>37800</td>\n",
       "      <td>1</td>\n",
       "      <td>2</td>\n",
       "      <td>2</td>\n",
       "    </tr>\n",
       "    <tr>\n",
       "      <th>138</th>\n",
       "      <td>80.21</td>\n",
       "      <td>32.40</td>\n",
       "      <td>0.00</td>\n",
       "      <td>0.0</td>\n",
       "      <td>92.72</td>\n",
       "      <td>100.0</td>\n",
       "      <td>38700</td>\n",
       "      <td>1</td>\n",
       "      <td>2</td>\n",
       "      <td>2</td>\n",
       "    </tr>\n",
       "    <tr>\n",
       "      <th>139</th>\n",
       "      <td>77.58</td>\n",
       "      <td>25.49</td>\n",
       "      <td>0.00</td>\n",
       "      <td>0.0</td>\n",
       "      <td>95.00</td>\n",
       "      <td>100.0</td>\n",
       "      <td>39600</td>\n",
       "      <td>1</td>\n",
       "      <td>2</td>\n",
       "      <td>2</td>\n",
       "    </tr>\n",
       "    <tr>\n",
       "      <th>140</th>\n",
       "      <td>128.52</td>\n",
       "      <td>70.85</td>\n",
       "      <td>0.00</td>\n",
       "      <td>0.0</td>\n",
       "      <td>87.57</td>\n",
       "      <td>100.0</td>\n",
       "      <td>40500</td>\n",
       "      <td>1</td>\n",
       "      <td>2</td>\n",
       "      <td>2</td>\n",
       "    </tr>\n",
       "  </tbody>\n",
       "</table>\n",
       "</div>"
      ],
      "text/plain": [
       "     Usage_kWh  Lagging_Reactive_Power_kVarh  Leading_Reactive_Power_kVarh  \\\n",
       "136      54.79                          7.52                          0.14   \n",
       "137      53.21                          8.35                          0.11   \n",
       "138      80.21                         32.40                          0.00   \n",
       "139      77.58                         25.49                          0.00   \n",
       "140     128.52                         70.85                          0.00   \n",
       "\n",
       "     CO2  Lagging_Power_Factor  Leading_Power_Factor    NSM  WeekStatus  \\\n",
       "136  0.0                 99.07                 100.0  36900           1   \n",
       "137  0.0                 98.79                 100.0  37800           1   \n",
       "138  0.0                 92.72                 100.0  38700           1   \n",
       "139  0.0                 95.00                 100.0  39600           1   \n",
       "140  0.0                 87.57                 100.0  40500           1   \n",
       "\n",
       "     Day_of_week  Load_Type  \n",
       "136            2          2  \n",
       "137            2          2  \n",
       "138            2          2  \n",
       "139            2          2  \n",
       "140            2          2  "
      ]
     },
     "execution_count": 10,
     "metadata": {},
     "output_type": "execute_result"
    }
   ],
   "source": [
    "df1 = df[df['Load_Type'] == 2]\n",
    "df1.head()"
   ]
  },
  {
   "cell_type": "code",
   "execution_count": 11,
   "id": "f10713df",
   "metadata": {},
   "outputs": [
    {
     "data": {
      "text/html": [
       "<div>\n",
       "<style scoped>\n",
       "    .dataframe tbody tr th:only-of-type {\n",
       "        vertical-align: middle;\n",
       "    }\n",
       "\n",
       "    .dataframe tbody tr th {\n",
       "        vertical-align: top;\n",
       "    }\n",
       "\n",
       "    .dataframe thead th {\n",
       "        text-align: right;\n",
       "    }\n",
       "</style>\n",
       "<table border=\"1\" class=\"dataframe\">\n",
       "  <thead>\n",
       "    <tr style=\"text-align: right;\">\n",
       "      <th></th>\n",
       "      <th>Usage_kWh</th>\n",
       "      <th>Lagging_Reactive_Power_kVarh</th>\n",
       "      <th>Leading_Reactive_Power_kVarh</th>\n",
       "      <th>CO2</th>\n",
       "      <th>Lagging_Power_Factor</th>\n",
       "      <th>Leading_Power_Factor</th>\n",
       "      <th>NSM</th>\n",
       "      <th>WeekStatus</th>\n",
       "      <th>Day_of_week</th>\n",
       "      <th>Load_Type</th>\n",
       "    </tr>\n",
       "  </thead>\n",
       "  <tbody>\n",
       "    <tr>\n",
       "      <th>132</th>\n",
       "      <td>56.84</td>\n",
       "      <td>8.32</td>\n",
       "      <td>0.00</td>\n",
       "      <td>0.0</td>\n",
       "      <td>98.95</td>\n",
       "      <td>100.00</td>\n",
       "      <td>33300</td>\n",
       "      <td>1</td>\n",
       "      <td>2</td>\n",
       "      <td>1</td>\n",
       "    </tr>\n",
       "    <tr>\n",
       "      <th>133</th>\n",
       "      <td>51.26</td>\n",
       "      <td>4.54</td>\n",
       "      <td>0.94</td>\n",
       "      <td>0.0</td>\n",
       "      <td>99.61</td>\n",
       "      <td>99.98</td>\n",
       "      <td>34200</td>\n",
       "      <td>1</td>\n",
       "      <td>2</td>\n",
       "      <td>1</td>\n",
       "    </tr>\n",
       "    <tr>\n",
       "      <th>134</th>\n",
       "      <td>48.13</td>\n",
       "      <td>2.34</td>\n",
       "      <td>1.15</td>\n",
       "      <td>0.0</td>\n",
       "      <td>99.88</td>\n",
       "      <td>99.97</td>\n",
       "      <td>35100</td>\n",
       "      <td>1</td>\n",
       "      <td>2</td>\n",
       "      <td>1</td>\n",
       "    </tr>\n",
       "    <tr>\n",
       "      <th>135</th>\n",
       "      <td>52.81</td>\n",
       "      <td>7.06</td>\n",
       "      <td>0.54</td>\n",
       "      <td>0.0</td>\n",
       "      <td>99.12</td>\n",
       "      <td>99.99</td>\n",
       "      <td>36000</td>\n",
       "      <td>1</td>\n",
       "      <td>2</td>\n",
       "      <td>1</td>\n",
       "    </tr>\n",
       "    <tr>\n",
       "      <th>144</th>\n",
       "      <td>19.22</td>\n",
       "      <td>5.54</td>\n",
       "      <td>18.90</td>\n",
       "      <td>0.0</td>\n",
       "      <td>96.09</td>\n",
       "      <td>71.30</td>\n",
       "      <td>44100</td>\n",
       "      <td>1</td>\n",
       "      <td>2</td>\n",
       "      <td>1</td>\n",
       "    </tr>\n",
       "  </tbody>\n",
       "</table>\n",
       "</div>"
      ],
      "text/plain": [
       "     Usage_kWh  Lagging_Reactive_Power_kVarh  Leading_Reactive_Power_kVarh  \\\n",
       "132      56.84                          8.32                          0.00   \n",
       "133      51.26                          4.54                          0.94   \n",
       "134      48.13                          2.34                          1.15   \n",
       "135      52.81                          7.06                          0.54   \n",
       "144      19.22                          5.54                         18.90   \n",
       "\n",
       "     CO2  Lagging_Power_Factor  Leading_Power_Factor    NSM  WeekStatus  \\\n",
       "132  0.0                 98.95                100.00  33300           1   \n",
       "133  0.0                 99.61                 99.98  34200           1   \n",
       "134  0.0                 99.88                 99.97  35100           1   \n",
       "135  0.0                 99.12                 99.99  36000           1   \n",
       "144  0.0                 96.09                 71.30  44100           1   \n",
       "\n",
       "     Day_of_week  Load_Type  \n",
       "132            2          1  \n",
       "133            2          1  \n",
       "134            2          1  \n",
       "135            2          1  \n",
       "144            2          1  "
      ]
     },
     "execution_count": 11,
     "metadata": {},
     "output_type": "execute_result"
    }
   ],
   "source": [
    "df2 = df[df['Load_Type'] == 1]\n",
    "df2.head()"
   ]
  },
  {
   "cell_type": "markdown",
   "id": "84066288",
   "metadata": {
    "papermill": {
     "duration": 0.033354,
     "end_time": "2023-01-06T21:03:43.680529",
     "exception": false,
     "start_time": "2023-01-06T21:03:43.647175",
     "status": "completed"
    },
    "tags": []
   },
   "source": [
    "# Split the dataset and prepare some lists to store the models\n"
   ]
  },
  {
   "cell_type": "code",
   "execution_count": 12,
   "id": "865be5ee",
   "metadata": {
    "execution": {
     "iopub.execute_input": "2023-01-06T21:03:43.753180Z",
     "iopub.status.busy": "2023-01-06T21:03:43.752294Z",
     "iopub.status.idle": "2023-01-06T21:03:43.766430Z",
     "shell.execute_reply": "2023-01-06T21:03:43.765385Z"
    },
    "papermill": {
     "duration": 0.053262,
     "end_time": "2023-01-06T21:03:43.768978",
     "exception": false,
     "start_time": "2023-01-06T21:03:43.715716",
     "status": "completed"
    },
    "tags": []
   },
   "outputs": [],
   "source": [
    "# Split the dataset and prepare some lists to store the models\n",
    "from sklearn.model_selection import train_test_split\n",
    "X = df.drop(['Load_Type'], axis=1)\n",
    "y = df['Load_Type']\n",
    "\n",
    "X_train, X_test, y_train, y_test = train_test_split(X, y, test_size=0.25, random_state = 42) "
   ]
  },
  {
   "cell_type": "markdown",
   "id": "cd3b332d",
   "metadata": {
    "papermill": {
     "duration": 0.032239,
     "end_time": "2023-01-06T21:03:43.833782",
     "exception": false,
     "start_time": "2023-01-06T21:03:43.801543",
     "status": "completed"
    },
    "tags": []
   },
   "source": [
    "## Create a pipeline"
   ]
  },
  {
   "cell_type": "code",
   "execution_count": 13,
   "id": "e787ce99",
   "metadata": {
    "execution": {
     "iopub.execute_input": "2023-01-06T21:03:43.969052Z",
     "iopub.status.busy": "2023-01-06T21:03:43.968299Z",
     "iopub.status.idle": "2023-01-06T21:03:43.982093Z",
     "shell.execute_reply": "2023-01-06T21:03:43.981133Z"
    },
    "papermill": {
     "duration": 0.051161,
     "end_time": "2023-01-06T21:03:43.984419",
     "exception": false,
     "start_time": "2023-01-06T21:03:43.933258",
     "status": "completed"
    },
    "tags": []
   },
   "outputs": [
    {
     "data": {
      "text/plain": [
       "['Usage_kWh',\n",
       " 'Lagging_Reactive_Power_kVarh',\n",
       " 'Leading_Reactive_Power_kVarh',\n",
       " 'CO2',\n",
       " 'Lagging_Power_Factor',\n",
       " 'Leading_Power_Factor',\n",
       " 'NSM',\n",
       " 'WeekStatus',\n",
       " 'Day_of_week']"
      ]
     },
     "execution_count": 13,
     "metadata": {},
     "output_type": "execute_result"
    }
   ],
   "source": [
    "#Get the columns name \n",
    "df.drop(columns=[\"Load_Type\"]).select_dtypes('number').columns.tolist()"
   ]
  },
  {
   "cell_type": "code",
   "execution_count": 14,
   "id": "8a3c76f7",
   "metadata": {},
   "outputs": [
    {
     "data": {
      "text/plain": [
       "Usage_kWh                       float64\n",
       "Lagging_Reactive_Power_kVarh    float64\n",
       "Leading_Reactive_Power_kVarh    float64\n",
       "CO2                             float64\n",
       "Lagging_Power_Factor            float64\n",
       "Leading_Power_Factor            float64\n",
       "NSM                               int64\n",
       "WeekStatus                        int32\n",
       "Day_of_week                       int32\n",
       "Load_Type                         int64\n",
       "dtype: object"
      ]
     },
     "execution_count": 14,
     "metadata": {},
     "output_type": "execute_result"
    }
   ],
   "source": [
    "df.dtypes"
   ]
  },
  {
   "cell_type": "code",
   "execution_count": 15,
   "id": "cdcbac7f",
   "metadata": {
    "execution": {
     "iopub.execute_input": "2023-01-06T21:03:44.054748Z",
     "iopub.status.busy": "2023-01-06T21:03:44.053553Z",
     "iopub.status.idle": "2023-01-06T21:04:51.295509Z",
     "shell.execute_reply": "2023-01-06T21:04:51.294042Z"
    },
    "papermill": {
     "duration": 67.280785,
     "end_time": "2023-01-06T21:04:51.298210",
     "exception": false,
     "start_time": "2023-01-06T21:03:44.017425",
     "status": "completed"
    },
    "tags": []
   },
   "outputs": [
    {
     "data": {
      "text/plain": [
       "'\\nfrom sklearn.compose import ColumnTransformer, make_column_transformer\\nfrom sklearn.preprocessing import StandardScaler\\nfrom sklearn.pipeline import Pipeline, make_pipeline\\nfrom sklearn.neighbors import KNeighborsClassifier\\nfrom sklearn.metrics import accuracy_score, log_loss,confusion_matrix,classification_report\\n\\n#Specify Numerical and Categorical Columns for preprocessor \\nnumerical_features = [\\'Usage_kWh\\',\\'Lagging_Reactive_Power_kVarh\\',\\'Leading_Reactive_Power_kVarh\\',\\n                      \\'CO2\\',\\'Lagging_Power_Factor\\',\\'Leading_Power_Factor\\',\\'NSM\\']\\npassthrough_features = [\\'WeekStatus\\',\\'Day_of_week\\']\\n\\n#Prepare preprocessor\\npreprocessor = make_column_transformer(\\n    (make_pipeline(StandardScaler()),numerical_features), \\n    (\"passthrough\", passthrough_features),)\\n    \\n#Loop for the training model \\nmodel = DecisionTreeClassifier()\\n \\npipe = make_pipeline(preprocessor, model)\\npipe.fit(X_train, y_train)\\nprint(model)\\nscore = pipe.score(X_test, y_test)\\nprint(\"Model score: %.3f\" %score)\\n'"
      ]
     },
     "execution_count": 15,
     "metadata": {},
     "output_type": "execute_result"
    }
   ],
   "source": [
    "\"\"\"\n",
    "from sklearn.compose import ColumnTransformer, make_column_transformer\n",
    "from sklearn.preprocessing import StandardScaler\n",
    "from sklearn.pipeline import Pipeline, make_pipeline\n",
    "from sklearn.neighbors import KNeighborsClassifier\n",
    "from sklearn.metrics import accuracy_score, log_loss,confusion_matrix,classification_report\n",
    "\n",
    "#Specify Numerical and Categorical Columns for preprocessor \n",
    "numerical_features = ['Usage_kWh','Lagging_Reactive_Power_kVarh','Leading_Reactive_Power_kVarh',\n",
    "                      'CO2','Lagging_Power_Factor','Leading_Power_Factor','NSM']\n",
    "passthrough_features = ['WeekStatus','Day_of_week']\n",
    "\n",
    "#Prepare preprocessor\n",
    "preprocessor = make_column_transformer(\n",
    "    (make_pipeline(StandardScaler()),numerical_features), \n",
    "    (\"passthrough\", passthrough_features),)\n",
    "    \n",
    "#Loop for the training model \n",
    "model = DecisionTreeClassifier()\n",
    " \n",
    "pipe = make_pipeline(preprocessor, model)\n",
    "pipe.fit(X_train, y_train)\n",
    "print(model)\n",
    "score = pipe.score(X_test, y_test)\n",
    "print(\"Model score: %.3f\" %score)\n",
    "\"\"\""
   ]
  },
  {
   "cell_type": "code",
   "execution_count": 17,
   "id": "1452b5b6",
   "metadata": {},
   "outputs": [
    {
     "name": "stdout",
     "output_type": "stream",
     "text": [
      "Model score: 0.877\n"
     ]
    }
   ],
   "source": [
    "from sklearn.neighbors import KNeighborsClassifier\n",
    "from sklearn.metrics import accuracy_score\n",
    "\n",
    "pipe = KNeighborsClassifier()\n",
    "pipe.fit(X_train, y_train)\n",
    "lr_predict = pipe.predict(X_test)\n",
    "score = accuracy_score(lr_predict, y_test)\n",
    "print(\"Model score: %.3f\" %score)"
   ]
  },
  {
   "cell_type": "code",
   "execution_count": 18,
   "id": "58c154e3",
   "metadata": {},
   "outputs": [
    {
     "name": "stdout",
     "output_type": "stream",
     "text": [
      "[2]\n",
      "Maximum Load\n"
     ]
    }
   ],
   "source": [
    "input_data = (54.79,7.52,0.14,0.0,99.07,100.0,36900,0,5)\n",
    "\n",
    "input_data_as_numpy_array = np.asarray(input_data)\n",
    "\n",
    "# reshape the array as we are predicting for one instance\n",
    "input_data_reshaped = input_data_as_numpy_array.reshape(1,-1)\n",
    "\n",
    "prediction = pipe.predict(input_data_reshaped)\n",
    "print(prediction)\n",
    "\n",
    "if (prediction[0] == 0):\n",
    "    print('Light Load')\n",
    "elif (prediction[0] == 1):\n",
    "    print('Medium Load')\n",
    "else:\n",
    "    print('Maximum Load')"
   ]
  },
  {
   "cell_type": "code",
   "execution_count": 19,
   "id": "6ae96781",
   "metadata": {},
   "outputs": [
    {
     "name": "stdout",
     "output_type": "stream",
     "text": [
      "[0 2 2 ... 1 0 0]\n"
     ]
    }
   ],
   "source": [
    "#Predict the result\n",
    "\n",
    "y_pred = pipe.predict(X_test)\n",
    "print(y_pred)"
   ]
  },
  {
   "cell_type": "code",
   "execution_count": 20,
   "id": "e8684c6e",
   "metadata": {},
   "outputs": [
    {
     "data": {
      "image/png": "[encoded data removed]",
      "text/plain": [
       "<Figure size 400x400 with 1 Axes>"
      ]
     },
     "metadata": {},
     "output_type": "display_data"
    }
   ],
   "source": [
    "#Draw the confusion matrix with the prediction and actual values \n",
    "from sklearn.metrics import accuracy_score, log_loss,confusion_matrix,classification_report\n",
    "\n",
    "data = confusion_matrix(y_test, y_pred)\n",
    "df_cm = pd.DataFrame(data, columns=np.unique(y_test), index = np.unique(y_test))\n",
    "df_cm.index.name = 'Actual'\n",
    "df_cm.columns.name = 'Predicted'\n",
    "plt.figure(figsize = (4,4))\n",
    "sns.set(font_scale=1.2)#for label size\n",
    "\n",
    "sns.heatmap(df_cm, annot=True,annot_kws={\"size\": 12}, cbar=False,\n",
    "          vmax=500, square=True, fmt=\"d\", cmap='Blues');"
   ]
  },
  {
   "cell_type": "code",
   "execution_count": 21,
   "id": "f3e4a87f",
   "metadata": {},
   "outputs": [
    {
     "name": "stdout",
     "output_type": "stream",
     "text": [
      "              precision    recall  f1-score   support\n",
      "\n",
      "           0       0.96      0.96      0.96      4496\n",
      "           1       0.79      0.79      0.79      2400\n",
      "           2       0.80      0.77      0.79      1864\n",
      "\n",
      "    accuracy                           0.88      8760\n",
      "   macro avg       0.85      0.84      0.85      8760\n",
      "weighted avg       0.88      0.88      0.88      8760\n",
      "\n"
     ]
    }
   ],
   "source": [
    "#Build a text report table showing the main classification metrics and its accuracy\n",
    "\n",
    "print(classification_report(y_test, y_pred))"
   ]
  },
  {
   "cell_type": "code",
   "execution_count": 22,
   "id": "cfdd6952",
   "metadata": {},
   "outputs": [],
   "source": [
    "import pickle\n",
    "\n",
    "filename = 'df.sav'\n",
    "pickle.dump(pipe, open(filename, 'wb'))\n",
    "\n",
    "# loading the saved model\n",
    "loaded_model = pickle.load(open('df.sav', 'rb'))"
   ]
  },
  {
   "cell_type": "code",
   "execution_count": null,
   "id": "eb14eee8",
   "metadata": {},
   "outputs": [],
   "source": []
  }
 ],
 "metadata": {
  "kernelspec": {
   "display_name": "Python 3 (ipykernel)",
   "language": "python",
   "name": "python3"
  },
  "language_info": {
   "codemirror_mode": {
    "name": "ipython",
    "version": 3
   },
   "file_extension": ".py",
   "mimetype": "text/x-python",
   "name": "python",
   "nbconvert_exporter": "python",
   "pygments_lexer": "ipython3",
   "version": "3.9.13"
  },
  "toc": {
   "base_numbering": 1,
   "nav_menu": {},
   "number_sections": true,
   "sideBar": true,
   "skip_h1_title": false,
   "title_cell": "Table of Contents",
   "title_sidebar": "Contents",
   "toc_cell": false,
   "toc_position": {},
   "toc_section_display": true,
   "toc_window_display": false
  }
 },
 "nbformat": 4,
 "nbformat_minor": 5
}
